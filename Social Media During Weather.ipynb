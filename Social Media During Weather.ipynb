{
 "cells": [
  {
   "cell_type": "markdown",
   "metadata": {},
   "source": [
    "# Helpful Notes\n",
    "\n",
    "## High-level Task Overview\n",
    "\n",
    "1. Display a map of current weather events in the US\n",
    "2. Allow the user to draw a bounding box including some weather events\n",
    "3. Process the selected weather events to obtain information on the type of event\n",
    "4. Utilize this information to filter the public Twitter stream\n",
    "5. Filter the public tweets to this bounded region and the weather event and display the result"
   ]
  },
  {
   "cell_type": "markdown",
   "metadata": {},
   "source": [
    "## Displaying a map of weather events\n",
    "\n",
    "We will use the ipyleaflet library (https://ipyleaflet.readthedocs.io/en/latest/index.html) to display a map of weather events and enable controls such as drawing a bounding box.\n",
    "\n",
    "```python\n",
    "from ipyleaflet import *\n",
    "\n",
    "wfs_url = 'https://idpgis.ncep.noaa.gov/arcgis/services/NWS_Forecasts_Guidance_Warnings/watch_warn_adv/MapServer/WFSServer'\n",
    "\n",
    "m = Map(center=(39.82, -98.58), zoom=4, basemap=basemaps.OpenStreetMap.Mapnik)\n",
    "wms = WMSLayer(url='http://idpgis.ncep.noaa.gov/arcgis/services/NWS_Forecasts_Guidance_Warnings/watch_warn_adv/MapServer/WMSServer', \n",
    "               layers='0',\n",
    "               format='image/png',\n",
    "               transparent=True)\n",
    "m.add_layer(wms)\n",
    "mymark = Marker(location=[38,-95])\n",
    "m.add_layer(mymark)\n",
    "dc = DrawControl()\n",
    "dc.rectangle = {\n",
    "    \"shapeOptions\": {\n",
    "        \"fillColor\": \"#fca45d\",\n",
    "        \"color\": \"#fca45d\",\n",
    "        \"transparent\": True\n",
    "    }\n",
    "}\n",
    "dc.on_draw(handle_draw)\n",
    "m.add_control(dc)\n",
    "m\n",
    "```\n"
   ]
  },
  {
   "cell_type": "markdown",
   "metadata": {},
   "source": [
    "## Processing a new Bounding Box\n",
    "\n",
    "Notice that the **on_draw** event utilizes the **handle_draw** event handler. This is where you will need to process the bounding box that was drawn to obtain the relevant information for the selected weather events. \n",
    "\n",
    "The NWS WFS service will return information in XML about all events in a specified region. Process the returned XML to obtain details of the weather events.\n",
    "\n",
    "```python\n",
    "\n",
    "def handle_draw(self, action, geo_json):\n",
    "    coords = geo_json['geometry']['coordinates'][0]\n",
    "    bbox = '%s,%s,%s,%s' % (coords[0][0],coords[0][1],coords[2][0],coords[2][1])\n",
    "    payload = {'service':'WFS',\n",
    "               'version': '1.1.0',\n",
    "               'request': 'GetFeature',\n",
    "               'typename': 'watch_warn_adv:WatchesWarnings',\n",
    "               'srsname': 'EPSG:4326',\n",
    "               'bbox': bbox\n",
    "              }\n",
    "    r = requests.get(wfs_url,params=payload)\n",
    "```\n",
    "\n",
    "Python's ElementTree (https://docs.python.org/3.6/library/xml.etree.elementtree.html) module is your friend here. Utilize it to process the returned XML (**r.text**). You may need to use Python nltk (https://www.nltk.org/) to break the weather alert sentence into individual keywords.\n"
   ]
  },
  {
   "cell_type": "markdown",
   "metadata": {},
   "source": [
    "## Twitter Public Stream\n",
    "\n",
    "You will need to use Python tweepy (http://docs.tweepy.org/en/v3.5.0/streaming_how_to.html) to access the Twitter public stream. A developer application has been created on Twitter for your use. You will need four pieces of authorization keys from this application:\n",
    "\n",
    "```python\n",
    "consumer_key = 'NqYmN1yKycA0iXNggwtee5sze'\n",
    "consumer_secret = 'NKG9FqJ1SYGeuC6IIitQTmjpPjFZ2bJPn1v9aTjOph7xnD8B6v'\n",
    "access_token_key = '756563398284935170-Ks0kvwIEVc14v8lkyWN4tgHh8DHRLuY'\n",
    "access_token_secret = 'Dg6E8vSbHqpjxKzzP4fF1EOBRUiEUkQHdxojnO99SuCAF'\n",
    "auth = OAuthHandler(ckey, consumer_secret) #OAuth object'\n",
    "auth.set_access_token(access_token_key, access_token_secret)'\n",
    "api = API(auth)'\n",
    "```\n"
   ]
  },
  {
   "cell_type": "code",
   "execution_count": null,
   "metadata": {},
   "outputs": [],
   "source": []
  }
 ],
 "metadata": {
  "kernelspec": {
   "display_name": "Python3",
   "language": "python",
   "name": "python3"
  },
  "language_info": {
   "codemirror_mode": {
    "name": "ipython",
    "version": 3
   },
   "file_extension": ".py",
   "mimetype": "text/x-python",
   "name": "python",
   "nbconvert_exporter": "python",
   "pygments_lexer": "ipython3",
   "version": "3.6.4"
  }
 },
 "nbformat": 4,
 "nbformat_minor": 2
}
