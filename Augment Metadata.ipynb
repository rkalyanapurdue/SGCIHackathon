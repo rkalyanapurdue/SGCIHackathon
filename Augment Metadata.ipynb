{
 "cells": [
  {
   "cell_type": "markdown",
   "metadata": {},
   "source": [
    "# Helpful Notes\n",
    "\n",
    "## Image Files\n",
    "\n",
    "All of the image files to use are available at /srv/irods/sgcihackathon\n",
    "\n",
    "Have a look at the BrownDog documentation for details of the API: https://bd-api.ncsa.illinois.edu/docs/\n",
    "\n",
    "## High-level Task Overview\n",
    "\n",
    "This task will involve the following steps:\n",
    "\n",
    "1. Obtain a token (required for authorizing all subsequent API calls) using a BrownDog API key (3438b3d4-9c19-46df-b4ca-6012635ca5ed)\n",
    "2. Submit a image file for processing and metadata extraction\n",
    "3. Poll for status of the extraction\n",
    "4. When extraction is complete, query for the extracted metadata\n",
    "5. Process the returned metadata to obtain the GPS coordinates for the image\n",
    "6. (Optional) Display the locations of the various images with a thumbnail of the image\n"
   ]
  },
  {
   "cell_type": "markdown",
   "metadata": {},
   "source": [
    "## Python Requests library\n",
    "\n",
    "The Requests library (http://docs.python-requests.org/en/master/) is your friend for all HTTP GET and POST interactions with the BrownDog service API.\n",
    "\n",
    "For instance, here's how you can obtain a token:\n",
    "\n",
    "```python\n",
    "import requests\n",
    "bd_key = '3438b3d4-9c19-46df-b4ca-6012635ca5ed'\n",
    "url = 'https://bd-api.ncsa.illinois.edu/v1/keys/%s/tokens' % bd_key\n",
    "r = requests.post(url)\n",
    "token = r.json()['token']\n",
    "```\n",
    "\n",
    "Once you have a token, you need to include it in any API requests that **require** authorization. Essentially, include a HTTP header field **Authorization** with your request that has the value of **token**."
   ]
  },
  {
   "cell_type": "code",
   "execution_count": null,
   "metadata": {},
   "outputs": [],
   "source": []
  }
 ],
 "metadata": {
  "kernelspec": {
   "display_name": "Python3",
   "language": "python",
   "name": "python3"
  },
  "language_info": {
   "codemirror_mode": {
    "name": "ipython",
    "version": 3
   },
   "file_extension": ".py",
   "mimetype": "text/x-python",
   "name": "python",
   "nbconvert_exporter": "python",
   "pygments_lexer": "ipython3",
   "version": "3.6.4"
  }
 },
 "nbformat": 4,
 "nbformat_minor": 2
}
